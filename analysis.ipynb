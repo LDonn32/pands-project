{
 "cells": [
  {
   "cell_type": "markdown",
   "id": "f1f782dd",
   "metadata": {},
   "source": [
    "# Outputs a summary of each variable to a single text file,"
   ]
  },
  {
   "cell_type": "markdown",
   "id": "e25794e8",
   "metadata": {},
   "source": [
    "Download the iris data set using SKLEARN\n",
    "\n",
    "[Scikit-learn.org](https://scikit-learn.org/stable/modules/generated/sklearn.datasets.load_iris.html)"
   ]
  },
  {
   "cell_type": "markdown",
   "id": "e5012305",
   "metadata": {},
   "source": [
    "Recource to easily read CSV\n",
    "\n",
    "[Pandas.org](https://pandas.pydata.org/pandas-docs/stable/reference/api/pandas.read_csv.html)"
   ]
  },
  {
   "cell_type": "code",
   "execution_count": 63,
   "id": "228e1b07",
   "metadata": {},
   "outputs": [],
   "source": [
    "# import Pandas to load the datasets\n",
    "import pandas as pd\n",
    "\n",
    "# Import sklearn\n",
    "import sklearn as skl\n"
   ]
  },
  {
   "cell_type": "code",
   "execution_count": 64,
   "id": "8ad5f94d",
   "metadata": {},
   "outputs": [],
   "source": [
    "# Load dataset. This command loads the iris data set and its features. \n",
    "data = skl.datasets.load_iris()"
   ]
  },
  {
   "cell_type": "code",
   "execution_count": 65,
   "id": "9dafd9cb",
   "metadata": {},
   "outputs": [
    {
     "data": {
      "text/plain": [
       "{'data': array([[5.1, 3.5, 1.4, 0.2],\n",
       "        [4.9, 3. , 1.4, 0.2],\n",
       "        [4.7, 3.2, 1.3, 0.2],\n",
       "        [4.6, 3.1, 1.5, 0.2],\n",
       "        [5. , 3.6, 1.4, 0.2],\n",
       "        [5.4, 3.9, 1.7, 0.4],\n",
       "        [4.6, 3.4, 1.4, 0.3],\n",
       "        [5. , 3.4, 1.5, 0.2],\n",
       "        [4.4, 2.9, 1.4, 0.2],\n",
       "        [4.9, 3.1, 1.5, 0.1],\n",
       "        [5.4, 3.7, 1.5, 0.2],\n",
       "        [4.8, 3.4, 1.6, 0.2],\n",
       "        [4.8, 3. , 1.4, 0.1],\n",
       "        [4.3, 3. , 1.1, 0.1],\n",
       "        [5.8, 4. , 1.2, 0.2],\n",
       "        [5.7, 4.4, 1.5, 0.4],\n",
       "        [5.4, 3.9, 1.3, 0.4],\n",
       "        [5.1, 3.5, 1.4, 0.3],\n",
       "        [5.7, 3.8, 1.7, 0.3],\n",
       "        [5.1, 3.8, 1.5, 0.3],\n",
       "        [5.4, 3.4, 1.7, 0.2],\n",
       "        [5.1, 3.7, 1.5, 0.4],\n",
       "        [4.6, 3.6, 1. , 0.2],\n",
       "        [5.1, 3.3, 1.7, 0.5],\n",
       "        [4.8, 3.4, 1.9, 0.2],\n",
       "        [5. , 3. , 1.6, 0.2],\n",
       "        [5. , 3.4, 1.6, 0.4],\n",
       "        [5.2, 3.5, 1.5, 0.2],\n",
       "        [5.2, 3.4, 1.4, 0.2],\n",
       "        [4.7, 3.2, 1.6, 0.2],\n",
       "        [4.8, 3.1, 1.6, 0.2],\n",
       "        [5.4, 3.4, 1.5, 0.4],\n",
       "        [5.2, 4.1, 1.5, 0.1],\n",
       "        [5.5, 4.2, 1.4, 0.2],\n",
       "        [4.9, 3.1, 1.5, 0.2],\n",
       "        [5. , 3.2, 1.2, 0.2],\n",
       "        [5.5, 3.5, 1.3, 0.2],\n",
       "        [4.9, 3.6, 1.4, 0.1],\n",
       "        [4.4, 3. , 1.3, 0.2],\n",
       "        [5.1, 3.4, 1.5, 0.2],\n",
       "        [5. , 3.5, 1.3, 0.3],\n",
       "        [4.5, 2.3, 1.3, 0.3],\n",
       "        [4.4, 3.2, 1.3, 0.2],\n",
       "        [5. , 3.5, 1.6, 0.6],\n",
       "        [5.1, 3.8, 1.9, 0.4],\n",
       "        [4.8, 3. , 1.4, 0.3],\n",
       "        [5.1, 3.8, 1.6, 0.2],\n",
       "        [4.6, 3.2, 1.4, 0.2],\n",
       "        [5.3, 3.7, 1.5, 0.2],\n",
       "        [5. , 3.3, 1.4, 0.2],\n",
       "        [7. , 3.2, 4.7, 1.4],\n",
       "        [6.4, 3.2, 4.5, 1.5],\n",
       "        [6.9, 3.1, 4.9, 1.5],\n",
       "        [5.5, 2.3, 4. , 1.3],\n",
       "        [6.5, 2.8, 4.6, 1.5],\n",
       "        [5.7, 2.8, 4.5, 1.3],\n",
       "        [6.3, 3.3, 4.7, 1.6],\n",
       "        [4.9, 2.4, 3.3, 1. ],\n",
       "        [6.6, 2.9, 4.6, 1.3],\n",
       "        [5.2, 2.7, 3.9, 1.4],\n",
       "        [5. , 2. , 3.5, 1. ],\n",
       "        [5.9, 3. , 4.2, 1.5],\n",
       "        [6. , 2.2, 4. , 1. ],\n",
       "        [6.1, 2.9, 4.7, 1.4],\n",
       "        [5.6, 2.9, 3.6, 1.3],\n",
       "        [6.7, 3.1, 4.4, 1.4],\n",
       "        [5.6, 3. , 4.5, 1.5],\n",
       "        [5.8, 2.7, 4.1, 1. ],\n",
       "        [6.2, 2.2, 4.5, 1.5],\n",
       "        [5.6, 2.5, 3.9, 1.1],\n",
       "        [5.9, 3.2, 4.8, 1.8],\n",
       "        [6.1, 2.8, 4. , 1.3],\n",
       "        [6.3, 2.5, 4.9, 1.5],\n",
       "        [6.1, 2.8, 4.7, 1.2],\n",
       "        [6.4, 2.9, 4.3, 1.3],\n",
       "        [6.6, 3. , 4.4, 1.4],\n",
       "        [6.8, 2.8, 4.8, 1.4],\n",
       "        [6.7, 3. , 5. , 1.7],\n",
       "        [6. , 2.9, 4.5, 1.5],\n",
       "        [5.7, 2.6, 3.5, 1. ],\n",
       "        [5.5, 2.4, 3.8, 1.1],\n",
       "        [5.5, 2.4, 3.7, 1. ],\n",
       "        [5.8, 2.7, 3.9, 1.2],\n",
       "        [6. , 2.7, 5.1, 1.6],\n",
       "        [5.4, 3. , 4.5, 1.5],\n",
       "        [6. , 3.4, 4.5, 1.6],\n",
       "        [6.7, 3.1, 4.7, 1.5],\n",
       "        [6.3, 2.3, 4.4, 1.3],\n",
       "        [5.6, 3. , 4.1, 1.3],\n",
       "        [5.5, 2.5, 4. , 1.3],\n",
       "        [5.5, 2.6, 4.4, 1.2],\n",
       "        [6.1, 3. , 4.6, 1.4],\n",
       "        [5.8, 2.6, 4. , 1.2],\n",
       "        [5. , 2.3, 3.3, 1. ],\n",
       "        [5.6, 2.7, 4.2, 1.3],\n",
       "        [5.7, 3. , 4.2, 1.2],\n",
       "        [5.7, 2.9, 4.2, 1.3],\n",
       "        [6.2, 2.9, 4.3, 1.3],\n",
       "        [5.1, 2.5, 3. , 1.1],\n",
       "        [5.7, 2.8, 4.1, 1.3],\n",
       "        [6.3, 3.3, 6. , 2.5],\n",
       "        [5.8, 2.7, 5.1, 1.9],\n",
       "        [7.1, 3. , 5.9, 2.1],\n",
       "        [6.3, 2.9, 5.6, 1.8],\n",
       "        [6.5, 3. , 5.8, 2.2],\n",
       "        [7.6, 3. , 6.6, 2.1],\n",
       "        [4.9, 2.5, 4.5, 1.7],\n",
       "        [7.3, 2.9, 6.3, 1.8],\n",
       "        [6.7, 2.5, 5.8, 1.8],\n",
       "        [7.2, 3.6, 6.1, 2.5],\n",
       "        [6.5, 3.2, 5.1, 2. ],\n",
       "        [6.4, 2.7, 5.3, 1.9],\n",
       "        [6.8, 3. , 5.5, 2.1],\n",
       "        [5.7, 2.5, 5. , 2. ],\n",
       "        [5.8, 2.8, 5.1, 2.4],\n",
       "        [6.4, 3.2, 5.3, 2.3],\n",
       "        [6.5, 3. , 5.5, 1.8],\n",
       "        [7.7, 3.8, 6.7, 2.2],\n",
       "        [7.7, 2.6, 6.9, 2.3],\n",
       "        [6. , 2.2, 5. , 1.5],\n",
       "        [6.9, 3.2, 5.7, 2.3],\n",
       "        [5.6, 2.8, 4.9, 2. ],\n",
       "        [7.7, 2.8, 6.7, 2. ],\n",
       "        [6.3, 2.7, 4.9, 1.8],\n",
       "        [6.7, 3.3, 5.7, 2.1],\n",
       "        [7.2, 3.2, 6. , 1.8],\n",
       "        [6.2, 2.8, 4.8, 1.8],\n",
       "        [6.1, 3. , 4.9, 1.8],\n",
       "        [6.4, 2.8, 5.6, 2.1],\n",
       "        [7.2, 3. , 5.8, 1.6],\n",
       "        [7.4, 2.8, 6.1, 1.9],\n",
       "        [7.9, 3.8, 6.4, 2. ],\n",
       "        [6.4, 2.8, 5.6, 2.2],\n",
       "        [6.3, 2.8, 5.1, 1.5],\n",
       "        [6.1, 2.6, 5.6, 1.4],\n",
       "        [7.7, 3. , 6.1, 2.3],\n",
       "        [6.3, 3.4, 5.6, 2.4],\n",
       "        [6.4, 3.1, 5.5, 1.8],\n",
       "        [6. , 3. , 4.8, 1.8],\n",
       "        [6.9, 3.1, 5.4, 2.1],\n",
       "        [6.7, 3.1, 5.6, 2.4],\n",
       "        [6.9, 3.1, 5.1, 2.3],\n",
       "        [5.8, 2.7, 5.1, 1.9],\n",
       "        [6.8, 3.2, 5.9, 2.3],\n",
       "        [6.7, 3.3, 5.7, 2.5],\n",
       "        [6.7, 3. , 5.2, 2.3],\n",
       "        [6.3, 2.5, 5. , 1.9],\n",
       "        [6.5, 3. , 5.2, 2. ],\n",
       "        [6.2, 3.4, 5.4, 2.3],\n",
       "        [5.9, 3. , 5.1, 1.8]]),\n",
       " 'target': array([0, 0, 0, 0, 0, 0, 0, 0, 0, 0, 0, 0, 0, 0, 0, 0, 0, 0, 0, 0, 0, 0,\n",
       "        0, 0, 0, 0, 0, 0, 0, 0, 0, 0, 0, 0, 0, 0, 0, 0, 0, 0, 0, 0, 0, 0,\n",
       "        0, 0, 0, 0, 0, 0, 1, 1, 1, 1, 1, 1, 1, 1, 1, 1, 1, 1, 1, 1, 1, 1,\n",
       "        1, 1, 1, 1, 1, 1, 1, 1, 1, 1, 1, 1, 1, 1, 1, 1, 1, 1, 1, 1, 1, 1,\n",
       "        1, 1, 1, 1, 1, 1, 1, 1, 1, 1, 1, 1, 2, 2, 2, 2, 2, 2, 2, 2, 2, 2,\n",
       "        2, 2, 2, 2, 2, 2, 2, 2, 2, 2, 2, 2, 2, 2, 2, 2, 2, 2, 2, 2, 2, 2,\n",
       "        2, 2, 2, 2, 2, 2, 2, 2, 2, 2, 2, 2, 2, 2, 2, 2, 2, 2]),\n",
       " 'frame': None,\n",
       " 'target_names': array(['setosa', 'versicolor', 'virginica'], dtype='<U10'),\n",
       " 'DESCR': '.. _iris_dataset:\\n\\nIris plants dataset\\n--------------------\\n\\n**Data Set Characteristics:**\\n\\n:Number of Instances: 150 (50 in each of three classes)\\n:Number of Attributes: 4 numeric, predictive attributes and the class\\n:Attribute Information:\\n    - sepal length in cm\\n    - sepal width in cm\\n    - petal length in cm\\n    - petal width in cm\\n    - class:\\n            - Iris-Setosa\\n            - Iris-Versicolour\\n            - Iris-Virginica\\n\\n:Summary Statistics:\\n\\n============== ==== ==== ======= ===== ====================\\n                Min  Max   Mean    SD   Class Correlation\\n============== ==== ==== ======= ===== ====================\\nsepal length:   4.3  7.9   5.84   0.83    0.7826\\nsepal width:    2.0  4.4   3.05   0.43   -0.4194\\npetal length:   1.0  6.9   3.76   1.76    0.9490  (high!)\\npetal width:    0.1  2.5   1.20   0.76    0.9565  (high!)\\n============== ==== ==== ======= ===== ====================\\n\\n:Missing Attribute Values: None\\n:Class Distribution: 33.3% for each of 3 classes.\\n:Creator: R.A. Fisher\\n:Donor: Michael Marshall (MARSHALL%PLU@io.arc.nasa.gov)\\n:Date: July, 1988\\n\\nThe famous Iris database, first used by Sir R.A. Fisher. The dataset is taken\\nfrom Fisher\\'s paper. Note that it\\'s the same as in R, but not as in the UCI\\nMachine Learning Repository, which has two wrong data points.\\n\\nThis is perhaps the best known database to be found in the\\npattern recognition literature.  Fisher\\'s paper is a classic in the field and\\nis referenced frequently to this day.  (See Duda & Hart, for example.)  The\\ndata set contains 3 classes of 50 instances each, where each class refers to a\\ntype of iris plant.  One class is linearly separable from the other 2; the\\nlatter are NOT linearly separable from each other.\\n\\n.. dropdown:: References\\n\\n  - Fisher, R.A. \"The use of multiple measurements in taxonomic problems\"\\n    Annual Eugenics, 7, Part II, 179-188 (1936); also in \"Contributions to\\n    Mathematical Statistics\" (John Wiley, NY, 1950).\\n  - Duda, R.O., & Hart, P.E. (1973) Pattern Classification and Scene Analysis.\\n    (Q327.D83) John Wiley & Sons.  ISBN 0-471-22361-1.  See page 218.\\n  - Dasarathy, B.V. (1980) \"Nosing Around the Neighborhood: A New System\\n    Structure and Classification Rule for Recognition in Partially Exposed\\n    Environments\".  IEEE Transactions on Pattern Analysis and Machine\\n    Intelligence, Vol. PAMI-2, No. 1, 67-71.\\n  - Gates, G.W. (1972) \"The Reduced Nearest Neighbor Rule\".  IEEE Transactions\\n    on Information Theory, May 1972, 431-433.\\n  - See also: 1988 MLC Proceedings, 54-64.  Cheeseman et al\"s AUTOCLASS II\\n    conceptual clustering system finds 3 classes in the data.\\n  - Many, many more ...\\n',\n",
       " 'feature_names': ['sepal length (cm)',\n",
       "  'sepal width (cm)',\n",
       "  'petal length (cm)',\n",
       "  'petal width (cm)'],\n",
       " 'filename': 'iris.csv',\n",
       " 'data_module': 'sklearn.datasets.data'}"
      ]
     },
     "execution_count": 65,
     "metadata": {},
     "output_type": "execute_result"
    }
   ],
   "source": [
    "# print\n",
    "data"
   ]
  },
  {
   "cell_type": "markdown",
   "id": "1713a62d",
   "metadata": {},
   "source": [
    "\n",
    "\n",
    "\n",
    "[Link] https://pandas.pydata.org/pandas-docs/stable/reference/api/pandas.DataFrame.html"
   ]
  },
  {
   "cell_type": "code",
   "execution_count": 66,
   "id": "daf7358a",
   "metadata": {},
   "outputs": [],
   "source": [
    "# load the iris dataset through Pandas CVS\n",
    "df = pd.read_csv('https://gist.githubusercontent.com/curran/a08a1080b88344b0c8a7/raw/0e7a9b0a5d22642a06d3d5b9bcbad9890c8ee534/iris.csv')"
   ]
  },
  {
   "cell_type": "markdown",
   "id": "0c610b5d",
   "metadata": {},
   "source": [
    "Using the df.describe(): function here so that it gives us summary for  dataset. It shows statistics to review such as the count, mean, standard deviation, min, max, and quartiles for each feature. \n",
    "\n",
    "\n",
    "Link: https://pandas.pydata.org/pandas-docs/stable/reference/api/pandas.DataFrame.describe.html"
   ]
  },
  {
   "cell_type": "code",
   "execution_count": 67,
   "id": "51314045",
   "metadata": {},
   "outputs": [
    {
     "data": {
      "text/html": [
       "<div>\n",
       "<style scoped>\n",
       "    .dataframe tbody tr th:only-of-type {\n",
       "        vertical-align: middle;\n",
       "    }\n",
       "\n",
       "    .dataframe tbody tr th {\n",
       "        vertical-align: top;\n",
       "    }\n",
       "\n",
       "    .dataframe thead th {\n",
       "        text-align: right;\n",
       "    }\n",
       "</style>\n",
       "<table border=\"1\" class=\"dataframe\">\n",
       "  <thead>\n",
       "    <tr style=\"text-align: right;\">\n",
       "      <th></th>\n",
       "      <th>sepal_length</th>\n",
       "      <th>sepal_width</th>\n",
       "      <th>petal_length</th>\n",
       "      <th>petal_width</th>\n",
       "    </tr>\n",
       "  </thead>\n",
       "  <tbody>\n",
       "    <tr>\n",
       "      <th>count</th>\n",
       "      <td>150.000000</td>\n",
       "      <td>150.000000</td>\n",
       "      <td>150.000000</td>\n",
       "      <td>150.000000</td>\n",
       "    </tr>\n",
       "    <tr>\n",
       "      <th>mean</th>\n",
       "      <td>5.843333</td>\n",
       "      <td>3.054000</td>\n",
       "      <td>3.758667</td>\n",
       "      <td>1.198667</td>\n",
       "    </tr>\n",
       "    <tr>\n",
       "      <th>std</th>\n",
       "      <td>0.828066</td>\n",
       "      <td>0.433594</td>\n",
       "      <td>1.764420</td>\n",
       "      <td>0.763161</td>\n",
       "    </tr>\n",
       "    <tr>\n",
       "      <th>min</th>\n",
       "      <td>4.300000</td>\n",
       "      <td>2.000000</td>\n",
       "      <td>1.000000</td>\n",
       "      <td>0.100000</td>\n",
       "    </tr>\n",
       "    <tr>\n",
       "      <th>25%</th>\n",
       "      <td>5.100000</td>\n",
       "      <td>2.800000</td>\n",
       "      <td>1.600000</td>\n",
       "      <td>0.300000</td>\n",
       "    </tr>\n",
       "    <tr>\n",
       "      <th>50%</th>\n",
       "      <td>5.800000</td>\n",
       "      <td>3.000000</td>\n",
       "      <td>4.350000</td>\n",
       "      <td>1.300000</td>\n",
       "    </tr>\n",
       "    <tr>\n",
       "      <th>75%</th>\n",
       "      <td>6.400000</td>\n",
       "      <td>3.300000</td>\n",
       "      <td>5.100000</td>\n",
       "      <td>1.800000</td>\n",
       "    </tr>\n",
       "    <tr>\n",
       "      <th>max</th>\n",
       "      <td>7.900000</td>\n",
       "      <td>4.400000</td>\n",
       "      <td>6.900000</td>\n",
       "      <td>2.500000</td>\n",
       "    </tr>\n",
       "  </tbody>\n",
       "</table>\n",
       "</div>"
      ],
      "text/plain": [
       "       sepal_length  sepal_width  petal_length  petal_width\n",
       "count    150.000000   150.000000    150.000000   150.000000\n",
       "mean       5.843333     3.054000      3.758667     1.198667\n",
       "std        0.828066     0.433594      1.764420     0.763161\n",
       "min        4.300000     2.000000      1.000000     0.100000\n",
       "25%        5.100000     2.800000      1.600000     0.300000\n",
       "50%        5.800000     3.000000      4.350000     1.300000\n",
       "75%        6.400000     3.300000      5.100000     1.800000\n",
       "max        7.900000     4.400000      6.900000     2.500000"
      ]
     },
     "execution_count": 67,
     "metadata": {},
     "output_type": "execute_result"
    }
   ],
   "source": [
    "# Summerise the data set\n",
    "df.describe()"
   ]
  },
  {
   "cell_type": "markdown",
   "id": "65b6e05a",
   "metadata": {},
   "source": [
    "Using summary = to store the results a a variable that we can call back to later"
   ]
  },
  {
   "cell_type": "code",
   "execution_count": 68,
   "id": "a640040a",
   "metadata": {},
   "outputs": [],
   "source": [
    "# Store the results as a variable\n",
    "summary = df.describe()"
   ]
  },
  {
   "cell_type": "markdown",
   "id": "157cdc6f",
   "metadata": {},
   "source": [
    "Using describe() to produce a table, and then using to_string() to convert it into  readable string format. Then storing that string in a variable using summary_txt = \n",
    "\n",
    "\n",
    "[Link] https://pandas.pydata.org/pandas-docs/stable/reference/api/pandas.DataFrame.to_string.html#"
   ]
  },
  {
   "cell_type": "markdown",
   "id": "84404bba",
   "metadata": {},
   "source": [
    "Trouble shooting - got a name error running the below code. Got this as I wasn't working with \"DataFrame\" anymore. I stored it as the variable \"summary\" in the cell above, which made the variable summary a Pandas Dataframe. So I needed to to change it to run to_string() correctly.\n",
    "\n",
    "Found this resource helpful to fix this\n",
    "\n",
    "[Link] https://stackoverflow.com/questions/66317262/pandas-df-dataframe-is-not-defined#:~:text=That%20NameError%20you%27re%20getting%20happens%20because%20you%27re%20referring,Python%22%20on%20Google%20to%20look%20for%20more%20info.\n"
   ]
  },
  {
   "cell_type": "code",
   "execution_count": 69,
   "id": "7f785432",
   "metadata": {},
   "outputs": [],
   "source": [
    "# Save the summary to a text file\n",
    "# summary_txt = DataFrame.to_string()\n",
    "\n",
    "# NameError: name 'DataFrame' is not defined"
   ]
  },
  {
   "cell_type": "code",
   "execution_count": 70,
   "id": "6d8e2ef6",
   "metadata": {},
   "outputs": [],
   "source": [
    "# Save the summary to a text file\n",
    "summary_txt = summary.to_string()\n"
   ]
  },
  {
   "cell_type": "markdown",
   "id": "497cb360",
   "metadata": {},
   "source": [
    "file_path = states the path where I want to save the summary file. I have set it so that the file will be saved in the current working directory with the name iris_summary.txt.\n",
    "\n",
    "[Link] https://www.delftstack.com/howto/python/set-file-path-python/"
   ]
  },
  {
   "cell_type": "code",
   "execution_count": 71,
   "id": "969d900b",
   "metadata": {},
   "outputs": [],
   "source": [
    "# Define the path where the file will be saved\n",
    "file_path = 'iris_summary.txt'\n"
   ]
  },
  {
   "cell_type": "markdown",
   "id": "e175d12b",
   "metadata": {},
   "source": [
    "This opens a file for writing. If the file doesn't exist, it will be created. If it does exist, the content will be overwritten ('w' stands for write mode).\n",
    "\n",
    "[Link] https://www.geeksforgeeks.org/file-handling-python/"
   ]
  },
  {
   "cell_type": "code",
   "execution_count": 72,
   "id": "baec01d4",
   "metadata": {},
   "outputs": [],
   "source": [
    "# Write the summary to the text file\n",
    "with open(file_path, 'w') as f:\n",
    "    f.write(summary_txt)\n"
   ]
  },
  {
   "cell_type": "markdown",
   "id": "d73f4a1a",
   "metadata": {},
   "source": [
    "The print function along with the f string will print a message to the terminal, confirming that the summary has been successfully saved to the file. \n",
    "\n",
    "Section 2.4.3. f-strings on the below rescource \n",
    "\n",
    "[Link] https://docs.python.org/3/reference/lexical_analysis.html#f-strings"
   ]
  },
  {
   "cell_type": "code",
   "execution_count": 73,
   "id": "c891d3d5",
   "metadata": {},
   "outputs": [
    {
     "name": "stdout",
     "output_type": "stream",
     "text": [
      "Summary saved to iris_summary.txt\n"
     ]
    }
   ],
   "source": [
    "print(f\"Summary saved to {file_path}\")\n"
   ]
  },
  {
   "cell_type": "markdown",
   "id": "b060dcbb",
   "metadata": {},
   "source": [
    "# Saves a histogram of each variable to png file"
   ]
  },
  {
   "cell_type": "markdown",
   "id": "0c6d8a5b",
   "metadata": {},
   "source": [
    "Importing matplotlib.pyplot as plt. I am using the module pyplot to create plots and figures. This will create the histogram\n",
    "\n",
    "[Link]https://matplotlib.org/stable/plot_types/stats/hist_plot.html#sphx-glr-plot-types-stats-hist-plot-py"
   ]
  },
  {
   "cell_type": "code",
   "execution_count": 74,
   "id": "7bc67072",
   "metadata": {},
   "outputs": [],
   "source": [
    "# Install packages\n",
    "import matplotlib.pyplot as plt\n"
   ]
  },
  {
   "cell_type": "markdown",
   "id": "e6eba6a4",
   "metadata": {},
   "source": [
    "Using Numpy to handle arrays for the dataset\n",
    "\n",
    "[Link] https://numpy.org/doc/2.2/user/absolute_beginners.html"
   ]
  },
  {
   "cell_type": "code",
   "execution_count": 75,
   "id": "2b345b0b",
   "metadata": {},
   "outputs": [],
   "source": [
    "# Install packages\n",
    "import numpy as np\n"
   ]
  },
  {
   "cell_type": "code",
   "execution_count": 76,
   "id": "89773b5a",
   "metadata": {},
   "outputs": [],
   "source": [
    "# Import data set\n",
    "from sklearn.datasets import load_iris\n",
    "\n"
   ]
  },
  {
   "cell_type": "markdown",
   "id": "6a9fb6be",
   "metadata": {},
   "source": [
    "data holds the features (input variables) of the Iris dataset. It's a 2D array where each row represents an iris flower and each column represents a feature (e.g., sepal length, sepal width, etc.)."
   ]
  },
  {
   "cell_type": "code",
   "execution_count": 77,
   "id": "4265827a",
   "metadata": {},
   "outputs": [],
   "source": [
    "# Load data set\n",
    "iris = load_iris()\n",
    "\n",
    "data = iris.data\n"
   ]
  },
  {
   "cell_type": "markdown",
   "id": "73b3b20b",
   "metadata": {},
   "source": [
    "feature_names stores the list of names of the features (i.e., the column names of iris.data). These names correspond to the measurements of the iris flowers, such as sepal length (cm), sepal width (cm), etc."
   ]
  },
  {
   "cell_type": "code",
   "execution_count": 78,
   "id": "c42522ba",
   "metadata": {},
   "outputs": [],
   "source": [
    "feature_names = iris.feature_names\n"
   ]
  },
  {
   "cell_type": "markdown",
   "id": "c7bb6977",
   "metadata": {},
   "source": [
    "Using the plt.figure function creates a new figure, which is like a blank canvas for each histogram.\n",
    "\n",
    "Using figsize=(6, 4) sets the size of the figure to 6 inches by 4 inches. \n",
    "\n",
    "[Link] https://matplotlib.org/stable/api/_as_gen/matplotlib.pyplot.figure.html"
   ]
  },
  {
   "cell_type": "markdown",
   "id": "073d8fde",
   "metadata": {},
   "source": [
    "Using the plt.hist(data[:, i], ...) function to create a histogram for the feature at index i. \n",
    "The data[:, i] slices the dataset to get the i-th column, which reflects the data for a specific feature \n",
    "\n",
    "bins= I set the number of bins to 20 \n",
    "\n",
    "I change the  colours of each histogram to distinguish them from each other. - link in here matplot lib colour maps reference https://matplotlib.org/stable/users/explain/colors/colors.html\n",
    "\n",
    "[Link] https://www.bing.com/search?pglt=2083&q=Matplotlib+hist()+Function&cvid=b126dbe119e4411db1b38b1c86d2f502&gs_lcrp=EgRlZGdlKgYIABBFGDkyBggAEEUYOTIGCAEQABhAMggIAhDpBxj8VdIBBzg0NmowajGoAgCwAgA&FORM=ANNAB1&PC=U531"
   ]
  },
  {
   "cell_type": "markdown",
   "id": "83f77729",
   "metadata": {},
   "source": [
    "Using the function plt.xlabel(feature) to add a label to the x-axis of the histogram. This is set to show the feature data\n",
    "\n",
    "[Link] https://matplotlib.org/stable/api/_as_gen/matplotlib.pyplot.xlabel.html"
   ]
  },
  {
   "cell_type": "markdown",
   "id": "8559bad2",
   "metadata": {},
   "source": [
    "Using the function plt.ylabel(\"Frequency\") to add a label to the y-axis of the histogram. This is set to show the the frequency of the feature's measurements \n",
    "\n",
    "\n",
    "[Link] https://matplotlib.org/stable/api/_as_gen/matplotlib.pyplot.ylabel.html"
   ]
  },
  {
   "cell_type": "markdown",
   "id": "df4ddf85",
   "metadata": {},
   "source": [
    "Using plt.title(f\"Histogram of {feature}\") to set the titleof the plot. I am using an f - string to add the name of the feature.\n",
    "\n",
    "[Link] https://matplotlib.org/stable/api/_as_gen/matplotlib.pyplot.title.html"
   ]
  },
  {
   "cell_type": "code",
   "execution_count": 79,
   "id": "ea99a419",
   "metadata": {},
   "outputs": [
    {
     "name": "stdout",
     "output_type": "stream",
     "text": [
      "Index(['sepal_length', 'sepal_width', 'petal_length', 'petal_width',\n",
      "       'species'],\n",
      "      dtype='object')\n"
     ]
    }
   ],
   "source": [
    "# Check how the names of the features appear in the dataset.\n",
    "print(df.columns)\n"
   ]
  },
  {
   "cell_type": "markdown",
   "id": "336a8c02",
   "metadata": {},
   "source": [
    "I was getting a Key Error:  'sepal lengh (cm)' cell execution error for this line: when I didn't match it to the column names exactly. I used ChatGBT to help me figure this error out - https://chatgpt.com/share/680e8aeb-0284-8012-94af-cb39c6dba68d"
   ]
  },
  {
   "cell_type": "code",
   "execution_count": 80,
   "id": "397a0da8",
   "metadata": {},
   "outputs": [
    {
     "data": {
      "image/png": "[encoded data removed]",
      "text/plain": [
       "<Figure size 1000x800 with 4 Axes>"
      ]
     },
     "metadata": {},
     "output_type": "display_data"
    }
   ],
   "source": [
    "# Plot histograms for each feature.\n",
    "# See: https://matplotlib.org/stable/api/_as_gen/matplotlib.pyplot.subplots.html\n",
    "\n",
    "fig, axes = plt.subplots(2, 2, figsize=(10, 8))  # Create a 2x2 grid of subplots\n",
    "\n",
    "# Plot each feature's histogram.\n",
    "# See: https://matplotlib.org/stable/api/_as_gen/matplotlib.pyplot.hist.html\n",
    "\n",
    "axes[0, 0].hist(df['sepal_length'], bins=20, color='skyblue', edgecolor='blue')\n",
    "\n",
    "# Set the title.\n",
    "# See: https://matplotlib.org/stable/api/_as_gen/matplotlib.axes.Axes.set_title.html\n",
    "\n",
    "axes[0, 0].set_title('Sepal Length (cm)')\n",
    "\n",
    "# Set the x-axis.\n",
    "# See: https://matplotlib.org/stable/api/_as_gen/matplotlib.axes.Axes.set_xlabel.html\n",
    "\n",
    "axes[0, 0].set_xlabel('Sepal Length (cm)')\n",
    "\n",
    "# Set the y-axis.\n",
    "# See: https://matplotlib.org/stable/api/_as_gen/matplotlib.axes.Axes.set_ylabel.html\n",
    "\n",
    "axes[0, 0].set_ylabel('Frequency')\n",
    "\n",
    "# Repeat the above steps for the remaining 3 features, changing colours of each histogram to distinguish them from each other.\n",
    "\n",
    "axes[0, 1].hist(df['sepal_width'], bins=20, color='lightpink', edgecolor='purple')\n",
    "axes[0, 1].set_title('Sepal Width (cm)')\n",
    "axes[0, 1].set_xlabel('Sepal Width (cm)')\n",
    "axes[0, 1].set_ylabel('Frequency')\n",
    "\n",
    "axes[1, 0].hist(df['petal_length'], bins=20, color='coral', edgecolor='red')\n",
    "axes[1, 0].set_title('Petal Length (cm)')\n",
    "axes[1, 0].set_xlabel('Petal Length (cm)')\n",
    "axes[1, 0].set_ylabel('Frequency')\n",
    "\n",
    "axes[1, 1].hist(df['petal_width'], bins=20, color='lightgreen', edgecolor='green')\n",
    "axes[1, 1].set_title('Petal Width (cm)')\n",
    "axes[1, 1].set_xlabel('Petal Width (cm)')\n",
    "axes[1, 1].set_ylabel('Frequency')\n",
    "\n",
    "\n",
    "\n",
    "# Adjust layout to prevent overlap\n",
    "# See: https://matplotlib.org/stable/api/_as_gen/matplotlib.pyplot.tight_layout.html\n",
    "\n",
    "plt.tight_layout()\n",
    "\n",
    "\n",
    "# Save the histogram as a png.\n",
    "plt.savefig('Histogram.png')\n",
    "\n",
    "# Show the plots\n",
    "# See: https://matplotlib.org/stable/api/_as_gen/matplotlib.pyplot.show.html\n",
    "\n",
    "plt.show()"
   ]
  }
 ],
 "metadata": {
  "kernelspec": {
   "display_name": "Python 3",
   "language": "python",
   "name": "python3"
  },
  "language_info": {
   "codemirror_mode": {
    "name": "ipython",
    "version": 3
   },
   "file_extension": ".py",
   "mimetype": "text/x-python",
   "name": "python",
   "nbconvert_exporter": "python",
   "pygments_lexer": "ipython3",
   "version": "3.12.1"
  }
 },
 "nbformat": 4,
 "nbformat_minor": 5
}
